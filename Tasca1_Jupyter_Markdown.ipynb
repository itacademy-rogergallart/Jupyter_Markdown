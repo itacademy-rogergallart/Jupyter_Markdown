{
 "cells": [
  {
   "cell_type": "markdown",
   "id": "ce2c4adc",
   "metadata": {},
   "source": [
    "# Tasca 1 : Jupyter Markdown\n",
    "\n",
    "Roger Gallart\n",
    "19 abril 2021"
   ]
  },
  {
   "cell_type": "markdown",
   "id": "45996d2b",
   "metadata": {},
   "source": [
    "## Nivell 1\n",
    "\n",
    "### Exercici 1\n",
    "\n",
    "Instal·la el programa Anaconda amb Python 3, i Jupyter Notebook."
   ]
  },
  {
   "cell_type": "markdown",
   "id": "de3a0fe5",
   "metadata": {},
   "source": [
    "### Exercici 2\n",
    "Utilitzant Jupyter Notebook executa alguns càlculs senzills, a la vegada que et familiaritzes amb el llenguatge Markdown."
   ]
  },
  {
   "cell_type": "code",
   "execution_count": 1,
   "id": "6a33a6d3",
   "metadata": {},
   "outputs": [
    {
     "data": {
      "text/plain": [
       "3"
      ]
     },
     "execution_count": 1,
     "metadata": {},
     "output_type": "execute_result"
    }
   ],
   "source": [
    "1 + 2"
   ]
  },
  {
   "cell_type": "code",
   "execution_count": 2,
   "id": "1c11f698",
   "metadata": {},
   "outputs": [
    {
     "name": "stdout",
     "output_type": "stream",
     "text": [
      "Hello World!\n"
     ]
    }
   ],
   "source": [
    "print(f'Hello World!')"
   ]
  },
  {
   "cell_type": "code",
   "execution_count": 3,
   "id": "bc05caa1",
   "metadata": {},
   "outputs": [
    {
     "data": {
      "text/plain": [
       "[1, 2, 3]"
      ]
     },
     "execution_count": 3,
     "metadata": {},
     "output_type": "execute_result"
    }
   ],
   "source": [
    "x = [1,2,3]\n",
    "x"
   ]
  },
  {
   "cell_type": "code",
   "execution_count": 4,
   "id": "621ed2f4",
   "metadata": {},
   "outputs": [
    {
     "data": {
      "text/plain": [
       "[1, 2, 3, 4]"
      ]
     },
     "execution_count": 4,
     "metadata": {},
     "output_type": "execute_result"
    }
   ],
   "source": [
    "x.append(4)\n",
    "x"
   ]
  },
  {
   "cell_type": "code",
   "execution_count": 5,
   "id": "7ae7b4ea",
   "metadata": {},
   "outputs": [
    {
     "name": "stdout",
     "output_type": "stream",
     "text": [
      "Hola, em dic Roger\n"
     ]
    }
   ],
   "source": [
    "text = \"Hola, em dic\" + \" \" + \"Roger\"\n",
    "print(text)"
   ]
  },
  {
   "cell_type": "markdown",
   "id": "1f12c19e",
   "metadata": {},
   "source": [
    "### Exercici 3\n",
    "Prova de crear títols, llistes, canviar l’estil de la lletra o afegir imatges dins del Notebook."
   ]
  },
  {
   "cell_type": "markdown",
   "id": "821e19b6",
   "metadata": {},
   "source": [
    "# Titol 1\n",
    "## Subtitol 1\n",
    "### Subsubtitol 1"
   ]
  },
  {
   "cell_type": "markdown",
   "id": "4dc9d2c7",
   "metadata": {},
   "source": [
    "Llista no ordenada:\n",
    "- item 1\n",
    "- item 2\n",
    "- item 3"
   ]
  },
  {
   "cell_type": "markdown",
   "id": "af4d16c5",
   "metadata": {},
   "source": [
    "Llista ordenada:\n",
    "1. item 1\n",
    "2. item 2   \n",
    "   2.1 subitem 1"
   ]
  },
  {
   "cell_type": "markdown",
   "id": "75547257",
   "metadata": {},
   "source": [
    "*negreta*\n",
    "\n",
    "**italic**\n",
    "\n",
    "***negreta i italic***"
   ]
  },
  {
   "cell_type": "markdown",
   "id": "b2d268a3",
   "metadata": {},
   "source": [
    "\n",
    "Foto de un gat a partir de una carpeta:\n",
    "![Gatet amb ulleres](imatges/foto_gat_ulleres.jpeg)\n"
   ]
  },
  {
   "cell_type": "markdown",
   "id": "f98cb39a",
   "metadata": {},
   "source": [
    "## Nivell 2\n",
    "\n",
    "### Exercici 1\n",
    "Exporta el Notebook com a pdf i com a html."
   ]
  },
  {
   "cell_type": "markdown",
   "id": "8ce58db0",
   "metadata": {},
   "source": [
    "Solució: Veure Tasca1_Jupyter_Markdown.pdf i Tasca1_Jupyter_Markdown.html"
   ]
  },
  {
   "cell_type": "markdown",
   "id": "6d4d70d6",
   "metadata": {},
   "source": [
    "## Nivell 3\n",
    "\n",
    "### Exercici 1\n",
    "Instal·la Nbextensions al Notebook de Jupyter.\n"
   ]
  },
  {
   "cell_type": "markdown",
   "id": "c3a73306",
   "metadata": {},
   "source": [
    "Instal·lació:\n",
    "\n",
    "```sh\n",
    "conda install -c conda-forge jupyter_contrib_nbextensions\n",
    "````"
   ]
  },
  {
   "cell_type": "markdown",
   "id": "b7ad849c",
   "metadata": {},
   "source": [
    "Activo una nbextension per exemple la que permet col·lapsar els títols\n",
    "\n",
    "![Exemple nbextension](imatges/captura_pantalla.png)"
   ]
  }
 ],
 "metadata": {
  "kernelspec": {
   "display_name": "Python 3",
   "language": "python",
   "name": "python3"
  },
  "language_info": {
   "codemirror_mode": {
    "name": "ipython",
    "version": 3
   },
   "file_extension": ".py",
   "mimetype": "text/x-python",
   "name": "python",
   "nbconvert_exporter": "python",
   "pygments_lexer": "ipython3",
   "version": "3.9.4"
  },
  "latex_envs": {
   "LaTeX_envs_menu_present": true,
   "autoclose": false,
   "autocomplete": true,
   "bibliofile": "biblio.bib",
   "cite_by": "apalike",
   "current_citInitial": 1,
   "eqLabelWithNumbers": true,
   "eqNumInitial": 1,
   "hotkeys": {
    "equation": "Ctrl-E",
    "itemize": "Ctrl-I"
   },
   "labels_anchors": false,
   "latex_user_defs": false,
   "report_style_numbering": false,
   "user_envs_cfg": false
  }
 },
 "nbformat": 4,
 "nbformat_minor": 5
}
